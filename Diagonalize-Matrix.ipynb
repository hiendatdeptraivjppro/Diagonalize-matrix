{
 "cells": [
  {
   "cell_type": "markdown",
   "id": "6d0e6ef0-950b-4702-994e-bdf65b7a0763",
   "metadata": {},
   "source": [
    "## Nguyễn Hiển Đạt\n",
    "## MSSV:21127591"
   ]
  },
  {
   "cell_type": "markdown",
   "id": "4958c06b-0be8-48fb-ac8f-eb51a58bb788",
   "metadata": {},
   "source": [
    "## Giải thuật\n",
    "Để chéo hóa một ma trận, ta cần tiến hành các bước sau đây:\n",
    "\n",
    "1.Tìm trị riêng và vectơ riêng của ma trận.\n",
    "\n",
    "2.Xây dựng ma trận P từ các vectơ riêng tìm được.\n",
    "\n",
    "3.Tính ma trận nghịch đảo của P.\n",
    "\n",
    "4.Tính ma trận chéo D từ các giá trị riêng tìm được.\n",
    "\n",
    "5.Kiểm tra xem ma trận A có chéo hóa được hay không.\n"
   ]
  },
  {
   "cell_type": "code",
   "execution_count": 9,
   "id": "92c4bb62-81f4-47cb-8619-7fd464e85afd",
   "metadata": {},
   "outputs": [
    {
     "name": "stdout",
     "output_type": "stream",
     "text": [
      "Eigenvalues:[-2.0, 2.0, 3.0]\n",
      "\n",
      "P:\n",
      "0.24  -0.71  -0.58  \n",
      "-0.24  -0.00  0.58  \n",
      "0.94  0.71  0.58  \n",
      "\n",
      "P^-1:\n",
      "0.85  -0.00  0.85  \n",
      "-1.41  -1.41  -0.00  \n",
      "0.35  1.73  0.35  \n",
      "\n",
      "D:\n",
      "-2.00  0.00  -0.00  \n",
      "0.00  2.00  -0.00  \n",
      "-0.00  -0.00  3.00  \n",
      "\n"
     ]
    }
   ],
   "source": [
    "import numpy as np\n",
    "import scipy\n",
    "\n",
    "def transpose(U):\n",
    "    return [[row[i] for row in U] for i in range(len(U[0]))]\n",
    "\n",
    "def show_Matrix(A):\n",
    "    for i in range(len(A)): \n",
    "        for j in range(len(A[0])):\n",
    "            print(\"%.2f  \" % A[i][j], end=\"\")\n",
    "        print()\n",
    "    print()\n",
    "    \n",
    "def det(A):\n",
    "    if A.shape == (1, 1):\n",
    "        return A[0][0]\n",
    "    else:\n",
    "        d = 0\n",
    "        for j in range(A.shape[1]):\n",
    "            C = (-1)**(j) * det(np.delete(np.delete(A, 0, axis=0), j, axis=1))\n",
    "            d += A[0][j] * C\n",
    "        return d\n",
    "\n",
    "def eigen(A):\n",
    "    values = []\n",
    "    matrices = []\n",
    "    for l in np.arange(-10, 10, 0.01):\n",
    "        # Round lambda to two decimal places\n",
    "        l = round(l, 2)\n",
    "        # Compute A - lambda*I and its determinant\n",
    "        B = A - l*np.identity(A.shape[0])\n",
    "        d = det(B)\n",
    "        # Check if the determinant is zero (or close enough to zero due to numerical errors)\n",
    "        if abs(d) < 1e-6:\n",
    "            # If so, lambda is an eigenvalue of A, so append it to the values list\n",
    "            values.append(l)\n",
    "            # Find the null space of B and store it as a matrix by appending the eigenvectors to a list and converting it to a numpy array\n",
    "            M = scipy.linalg.null_space(B)\n",
    "            # Append the matrix to the matrices list\n",
    "            matrices.append(M)\n",
    "    # Stack the matrices vertically for all eigenvalues and return it along with the values list as a tuple\n",
    "    return (values,matrices)\n",
    "\n",
    "# Test the function on an example matrix\n",
    "A = np.array([[1, -1, -1],\n",
    "    [1, 3, 1],\n",
    "    [-3, 1, -1]])\n",
    "values,matrices=eigen(A)\n",
    "print(f'Eigenvalues:{values}')\n",
    "P=np.hstack(matrices)\n",
    "print('\\nP:')\n",
    "show_Matrix(P)\n",
    "print('P^-1:')\n",
    "inverse_P=np.linalg.inv(P)\n",
    "show_Matrix(inverse_P)\n",
    "PA=np.dot(inverse_P,A)\n",
    "D=np.dot(PA,P)\n",
    "print('D:')\n",
    "show_Matrix(D)\n"
   ]
  },
  {
   "cell_type": "code",
   "execution_count": 4,
   "id": "395194fe-2a47-44b0-bf1c-b6331a133f8c",
   "metadata": {},
   "outputs": [
    {
     "name": "stdout",
     "output_type": "stream",
     "text": [
      "Eigenvalues: [-2.  2.  3.]\n",
      "\n",
      "P:\n",
      "0.24  -0.71  -0.58  \n",
      "-0.24  0.00  0.58  \n",
      "0.94  0.71  0.58  \n",
      "\n",
      "P^-1:\n",
      "0.85  -0.00  0.85  \n",
      "-1.41  -1.41  -0.00  \n",
      "0.35  1.73  0.35  \n",
      "\n",
      "D:\n",
      "-2.00  -0.00  -0.00  \n",
      "0.00  2.00  -0.00  \n",
      "0.00  0.00  3.00  \n",
      "\n"
     ]
    }
   ],
   "source": [
    "# Bài 2\n",
    "import numpy as np\n",
    "\n",
    "A = np.array([[1, -1, -1],\n",
    "    [1, 3, 1],\n",
    "    [-3, 1, -1]])\n",
    "eigenvalues, P = np.linalg.eig(A)\n",
    "\n",
    "print('Eigenvalues:', eigenvalues)\n",
    "print('\\nP:')\n",
    "show_Matrix(P)\n",
    "inverse_P=np.linalg.inv(P)\n",
    "print('P^-1:')\n",
    "show_Matrix(inverse_P)\n",
    "PA=np.dot(inverse_P,A)\n",
    "D=np.dot(PA,P)\n",
    "print('D:')\n",
    "show_Matrix(D)"
   ]
  },
  {
   "cell_type": "markdown",
   "id": "f4852bee-c675-4b0a-a287-4e43f0f74be0",
   "metadata": {},
   "source": [
    "# So sánh kết quả\n",
    "Khi sử dụng thư viện thì kết quả giống với giải thuật của em.\n",
    "## Ứng dụng chéo hóa:\n",
    "Chéo hóa ma trận có nhiều ứng dụng quan trọng trong toán học và khoa học máy tính. \n",
    "Một số ứng dụng phổ biến của chéo hóa ma trận bao gồm:\n",
    "\n",
    "Tính lũy thừa của ma trận: Chéo hóa ma trận giúp tính toán các lũy thừa của ma trận một cách dễ dàng hơn. Khi một ma trận được chéo hoá, các lũy thừa của nó có thể được tính bằng cách lũy thừa các phần tử trên đường chéo chính.\n",
    "\n",
    "Giải hệ phương trình tuyến tính: Chéo hóa ma trận cũng có thể được sử dụng để giải các hệ phương trình tuyến tính. Khi một ma trận được chéo hoá, các phương trình tuyến tính có thể được giải một cách dễ dàng hơn bằng cách sử dụng phép thế ngược.\n",
    "\n",
    "Tìm ma trận đồng dạng: Chéo hóa ma trận cũng có thể được sử dụng để tìm các ma trận đồng dạng. Hai ma trận được gọi là đồng dạng nếu chúng có thể được biến đổi thành nhau bằng cách nhân với một ma trận khả nghịch.\n",
    "\n",
    "Ngoài ra, chéo hóa ma trận còn có nhiều ứng dụng khác trong lý thuyết đồ thị, lý thuyết điều khiển, và nhiều lĩnh vực khác. Chéo hóa ma trận là một công cụ mạnh mẽ và linh hoạt có thể giúp giải quyết nhiều vấn đề khác nhau trong toán học và khoa học máy tính."
   ]
  },
  {
   "cell_type": "markdown",
   "id": "5ab5f5d6-53b7-42dd-8ae6-369e7c09f879",
   "metadata": {},
   "source": [
    "## Ý tưởng thực hiện:  \n",
    "- Viết hàm 'eigen' lấy input là ma trận A chéo hóa được và trả về trị riêng và vécto riêng.\n",
    "- Hàm dùng vòng lặp để kiểm tra các giá trị có thể của lambda ( trị riêng) từ -10 tới 10 với step là 0.01. Với mỗi giá trị của lamda, tạo ma trận A - lambda*I và tính định thức của nó, với I là ma trận đơn vị cùng size với A.\n",
    "- Nếu định thức bằng 0 ( hoặc gần bằng 0 do sai số), thì lambda là trị riêng của A, sau đó append lambda vào list values.\n",
    "- Để tìm vécto riêng tương ứng với mỗi lambda, ta tìm 'null space' của A - lambda*I, là bộ các vécto v khác 0 sao cho (A-lambda*I)v=0. Ta sử dụng công cụ từ thư viện scipy `scipy.linalg.null_space` để làm việc này, sau đó trả về ma trận có các cột tạo nên cơ sở trực chuẩn cho 'null space', cuối cùng append ma trận này vào list 'matrices'.\n",
    "- Sau khi vòng lặp kết thúc, hàm trả về 2 list 'values' và 'matrices'. List 'values' gồm các trị riêng của A. Còn list 'matrices' gồm các vécto riêng ứng với mỗi trị riêng. Các vécto này được sắp xếp theo cột, vậy nên muốn lấy P cần chuyển vị matrices.\n"
   ]
  },
  {
   "cell_type": "code",
   "execution_count": null,
   "id": "c68072ad-8ab5-4fa9-a368-7c4e25c460dd",
   "metadata": {},
   "outputs": [],
   "source": []
  }
 ],
 "metadata": {
  "kernelspec": {
   "display_name": "Python 3 (ipykernel)",
   "language": "python",
   "name": "python3"
  },
  "language_info": {
   "codemirror_mode": {
    "name": "ipython",
    "version": 3
   },
   "file_extension": ".py",
   "mimetype": "text/x-python",
   "name": "python",
   "nbconvert_exporter": "python",
   "pygments_lexer": "ipython3",
   "version": "3.10.9"
  }
 },
 "nbformat": 4,
 "nbformat_minor": 5
}
