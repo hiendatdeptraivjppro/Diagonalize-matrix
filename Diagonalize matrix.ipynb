{
 "cells": [
  {
   "cell_type": "markdown",
   "id": "6d0e6ef0-950b-4702-994e-bdf65b7a0763",
   "metadata": {},
   "source": [
    "## Nguyễn Hiển Đạt\n",
    "## MSSV:21127591"
   ]
  },
  {
   "cell_type": "markdown",
   "id": "4958c06b-0be8-48fb-ac8f-eb51a58bb788",
   "metadata": {},
   "source": [
    "Để chéo hóa một ma trận, ta cần tiến hành các bước sau đây:\n",
    "\n",
    "1.Tìm trị riêng và vectơ riêng của ma trận.\n",
    "\n",
    "2.Xây dựng ma trận P từ các vectơ riêng tìm được.\n",
    "\n",
    "3.Tính ma trận nghịch đảo của P.\n",
    "\n",
    "4.Tính ma trận chéo D từ các giá trị riêng tìm được.\n",
    "\n",
    "5.Kiểm tra xem ma trận A có chéo hóa được hay không.\n"
   ]
  },
  {
   "cell_type": "code",
   "execution_count": 11,
   "id": "92c4bb62-81f4-47cb-8619-7fd464e85afd",
   "metadata": {},
   "outputs": [
    {
     "name": "stdout",
     "output_type": "stream",
     "text": [
      "Eigenvalues: [ 3.         -0.85714286  0.85714286]\n",
      "P:\n",
      "-0.58  -0.80  -0.15  \n",
      "0.58  -0.27  -0.77  \n",
      "0.58  -0.53  0.62  \n",
      "\n",
      "P^-1\n",
      "-0.58  0.58  0.58  \n",
      "-0.80  -0.27  -0.53  \n",
      "-0.15  -0.77  0.62  \n",
      "\n",
      "D:\n",
      "3.00  0.00  0.00  \n",
      "0.00  -0.86  0.00  \n",
      "0.00  0.00  0.86  \n",
      "\n"
     ]
    }
   ],
   "source": [
    "# Bài 1\n",
    "import numpy as np\n",
    "def show_Matrix(A):\n",
    "    for i in range(len(A)): \n",
    "        for j in range(len(A[0])):\n",
    "            print(\"%.2f  \" % A[i][j], end=\"\")\n",
    "        print()\n",
    "    print()\n",
    "    \n",
    "def transpose(U):\n",
    "    return [[row[i] for row in U] for i in range(len(U[0]))]\n",
    "\n",
    "def dot_product(u, v):\n",
    "    return sum(ui * vi for ui, vi in zip(u, v))\n",
    "\n",
    "def vector_subtract(u, v):\n",
    "    return [ui - vi for ui, vi in zip(u, v)]\n",
    "\n",
    "def scalar_multiply(u, c):\n",
    "    return [ui * c for ui in u]\n",
    "\n",
    "def vector_norm(v):\n",
    "    return sum(vi ** 2 for vi in v) ** 0.5\n",
    "\n",
    "def qr_decomposition(A):\n",
    "    A_ = transpose(A)\n",
    "    n = len(A)\n",
    "    Q = [[0] * n for _ in range(n)]\n",
    "    R = [[0] * n for _ in range(n)]\n",
    "\n",
    "    for i in range(n):\n",
    "        v = A_[i]\n",
    "        \n",
    "        for j in range(i):\n",
    "            R[j][i] = dot_product(Q[j], A_[i])\n",
    "            v = vector_subtract(v, scalar_multiply(Q[j], R[j][i]))\n",
    "        \n",
    "        R[i][i] = vector_norm(v)\n",
    "        Q[i] = scalar_multiply(v, 1 / R[i][i])\n",
    "\n",
    "    return transpose(Q), R\n",
    "\n",
    "\n",
    "def qr_algorithm(A, tol=1e-12, max_iterations=10000):\n",
    "    n = A.shape[0]\n",
    "    V = np.eye(n)\n",
    "    for i in range(max_iterations):\n",
    "        Q, R = qr_decomposition(A)\n",
    "        A = np.dot(R, Q)\n",
    "        V = np.dot(V, Q)\n",
    "        off_diagonal = np.sum(np.abs(np.tril(A, k=-1)))\n",
    "        if off_diagonal < tol:\n",
    "            break\n",
    "    return np.diag(A), V\n",
    "\n",
    "def diagonalize(A):\n",
    "    # Calculate the eigenvalues and eigenvectors of A\n",
    "    eigenvalues, eigenvectors = qr_algorithm(A)\n",
    "\n",
    "    # Create the diagonal matrix D\n",
    "    D = np.diag(eigenvalues)\n",
    "    # Create the matrix P\n",
    "    P = eigenvectors\n",
    "    return P, D, eigenvalues\n",
    "\n",
    "A = np.array([[1, -1, -1],\n",
    "    [1, 3, 1],\n",
    "    [-3, 1, -1]])\n",
    "P, D, eigenvalues = diagonalize(A)\n",
    "print('Eigenvalues:', eigenvalues)\n",
    "print('P:')\n",
    "show_Matrix(P)\n",
    "print('P^-1')\n",
    "show_Matrix(np.linalg.inv(P))\n",
    "print('D:')\n",
    "show_Matrix(D)\n"
   ]
  },
  {
   "cell_type": "code",
   "execution_count": 9,
   "id": "395194fe-2a47-44b0-bf1c-b6331a133f8c",
   "metadata": {},
   "outputs": [
    {
     "name": "stdout",
     "output_type": "stream",
     "text": [
      "Eigenvalues: [-2.  2.  3.]\n",
      "P:\n",
      "0.24  -0.71  -0.58  \n",
      "-0.24  0.00  0.58  \n",
      "0.94  0.71  0.58  \n",
      "\n",
      "P^-1:\n",
      "0.85  -0.00  0.85  \n",
      "-1.41  -1.41  -0.00  \n",
      "0.35  1.73  0.35  \n",
      "\n",
      "D:\n",
      "-2.00  -0.00  -0.00  \n",
      "0.00  2.00  -0.00  \n",
      "0.00  0.00  3.00  \n",
      "\n"
     ]
    }
   ],
   "source": [
    "# Bài 2\n",
    "import numpy as np\n",
    "\n",
    "A = np.array([[1, -1, -1],\n",
    "    [1, 3, 1],\n",
    "    [-3, 1, -1]])\n",
    "eigenvalues, P = np.linalg.eig(A)\n",
    "\n",
    "print('Eigenvalues:', eigenvalues)\n",
    "print('P:')\n",
    "show_Matrix(P)\n",
    "inverse_P=np.linalg.inv(P)\n",
    "print('P^-1:')\n",
    "show_Matrix(inverse_P)\n",
    "PA=np.dot(inverse_P,A)\n",
    "D=np.dot(PA,P)\n",
    "print('D:')\n",
    "show_Matrix(D)"
   ]
  },
  {
   "cell_type": "markdown",
   "id": "f4852bee-c675-4b0a-a287-4e43f0f74be0",
   "metadata": {},
   "source": [
    "Khi sử dụng thư viện thì kết quả có khác với giải thuật của em, điều này\n",
    "là do sai số trong tính toán tuy nhiên ma trận D ở 2 trường hợp đều là ma trận đường chéo.\n",
    "\n",
    "Chéo hóa ma trận có nhiều ứng dụng quan trọng trong toán học và khoa học máy tính. \n",
    "Một số ứng dụng phổ biến của chéo hóa ma trận bao gồm:\n",
    "\n",
    "Tính lũy thừa của ma trận: Chéo hóa ma trận giúp tính toán các lũy thừa của ma trận một cách dễ dàng hơn. Khi một ma trận được chéo hoá, các lũy thừa của nó có thể được tính bằng cách lũy thừa các phần tử trên đường chéo chính.\n",
    "\n",
    "Giải hệ phương trình tuyến tính: Chéo hóa ma trận cũng có thể được sử dụng để giải các hệ phương trình tuyến tính. Khi một ma trận được chéo hoá, các phương trình tuyến tính có thể được giải một cách dễ dàng hơn bằng cách sử dụng phép thế ngược.\n",
    "\n",
    "Tìm ma trận đồng dạng: Chéo hóa ma trận cũng có thể được sử dụng để tìm các ma trận đồng dạng. Hai ma trận được gọi là đồng dạng nếu chúng có thể được biến đổi thành nhau bằng cách nhân với một ma trận khả nghịch.\n",
    "\n",
    "Ngoài ra, chéo hóa ma trận còn có nhiều ứng dụng khác trong lý thuyết đồ thị, lý thuyết điều khiển, và nhiều lĩnh vực khác. Chéo hóa ma trận là một công cụ mạnh mẽ và linh hoạt có thể giúp giải quyết nhiều vấn đề khác nhau trong toán học và khoa học máy tính."
   ]
  },
  {
   "cell_type": "markdown",
   "id": "5ab5f5d6-53b7-42dd-8ae6-369e7c09f879",
   "metadata": {},
   "source": [
    "Ý tưởng bài thực hiện: sử dụng thuật toán QR để tìm các giá trị riêng và vector riêng của ma trận, sau đó sử dụng chúng để \n",
    "xây dựng ma trận P và D.\n",
    "\n",
    "Đầu tiên, viết một hàm có tên là qr_algorithm, sử dụng thuật toán QR để tìm các giá trị riêng và \n",
    "vector riêng của ma trận. \n",
    "\n",
    "Hàm qr_algorithm nhận đầu vào là ma trận A, giá trị dung sai tol, và số lần lặp tối đa max_iterations. \n",
    "Hàm trả về các trị riêng và vector riêng của ma trận A. Các trị riêng được trả về dưới dạng một mảng NumPy 1D \n",
    "và các vector riêng được trả về dưới dạng một mảng NumPy 2D, trong đó mỗi cột là một vector riêng.\n",
    "\n",
    "Sau đó, viết một hàm khác có tên là diagonalize, nhận đầu vào là ma trận A và trả về các ma trận P và D. \n",
    "Ma trận P là một ma trận có các cột là các vector riêng của A, và ma trận D là một ma trận chéo chứa các giá trị riêng \n",
    "của A. Hàm diagonalize tính các giá trị riêng và vector riêng của A bằng cách gọi hàm qr_algorithm, \n",
    "sau đó sử dụng các giá trị này để xây dựng các ma trận P và D."
   ]
  },
  {
   "cell_type": "code",
   "execution_count": null,
   "id": "c68072ad-8ab5-4fa9-a368-7c4e25c460dd",
   "metadata": {},
   "outputs": [],
   "source": []
  }
 ],
 "metadata": {
  "kernelspec": {
   "display_name": "Python 3 (ipykernel)",
   "language": "python",
   "name": "python3"
  },
  "language_info": {
   "codemirror_mode": {
    "name": "ipython",
    "version": 3
   },
   "file_extension": ".py",
   "mimetype": "text/x-python",
   "name": "python",
   "nbconvert_exporter": "python",
   "pygments_lexer": "ipython3",
   "version": "3.10.9"
  }
 },
 "nbformat": 4,
 "nbformat_minor": 5
}
